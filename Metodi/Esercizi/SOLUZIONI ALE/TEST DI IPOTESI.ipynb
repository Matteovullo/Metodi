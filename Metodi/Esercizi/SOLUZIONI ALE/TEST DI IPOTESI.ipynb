{
 "cells": [
  {
   "cell_type": "markdown",
   "id": "36943f5b-a001-4110-be70-d825eca2aff0",
   "metadata": {},
   "source": [
    "## TEST DI IPOTESI"
   ]
  },
  {
   "cell_type": "markdown",
   "id": "1f893ff0-8f64-4d67-9d19-2d5b37ff0a67",
   "metadata": {},
   "source": [
    "# TEST SULLA MEDIA  : VARIANZA NOTA\n",
    "Abbiamo X1,X2,XN di leggi normali o che si possa applicare l'approssimazione normale. Siano mu e sig^2 la media e la varianza.  Vogliamo testare l'ipotesi sul valore di mu <br>\n",
    "<br>\n",
    "IPOTESI NULLA => mu = mu0 <br>\n",
    "IPOTESI ALTERNATIVA => mu#mu0 <br>"
   ]
  },
  {
   "cell_type": "markdown",
   "id": "0a87d3ae-cd72-4e1c-82e5-9f3bed8ac3f4",
   "metadata": {},
   "source": [
    "Le specifiche tecniche per la velocita di combustione di un propellente richiedono che deve essere\n",
    "di 50 cm/s. Sappiamo che la deviazione standard e di 2 cm/s. Si effettuano 24 misurazioni.<br>\n",
    "Si puo rigettare l’ipotesi nulla con un livello di significativita del 5%? E se invece si richiedesse\n",
    "l’1%? Calcolare infine il p-value.<br>\n",
    "Supponiamo che lo sperimentatore voglia impostare il test in modo che la reale velocita di combustione media differisca da 50 cm/s per al piu 1 cm/s.Si vuole inoltre che il test affermerare questo fatto (cio e rigettera H0 : µ = 50) con una probabilita del 90% e un livello di significa\u0002tivit`a del 5%. Determinare la dimensione campionaria. <br>"
   ]
  },
  {
   "cell_type": "code",
   "execution_count": 33,
   "id": "8e853023-9b69-403b-8b6d-4ec2d394c351",
   "metadata": {},
   "outputs": [],
   "source": [
    "import numpy as np\n",
    "from scipy.stats import norm"
   ]
  },
  {
   "cell_type": "code",
   "execution_count": 34,
   "id": "2c676d71-1c57-4347-8ebf-77ee74d26559",
   "metadata": {},
   "outputs": [
    {
     "name": "stdout",
     "output_type": "stream",
     "text": [
      " rigettiamo ipotesi nulla, le specifiche del propollente non soddisfano la condizione\n"
     ]
    }
   ],
   "source": [
    "X = np.array([51., 50.2, 49.5, 48.7, 50.2, 50.5, 49.6, 51.1, 50.6, 49.1, 53.1, 50.4,49.3, 48.9, 50.3, 51.8, 51.3, 48.5, 49.3, 55.1, 53.1, 52.5, 55.1, 50.6])\n",
    "mu = 50 #media\n",
    "dev = 2 #deviazione\n",
    "n= 24\n",
    "\n",
    "#si può rigettare ipotesi nulla  con livello di significatività del 5%?\n",
    "\n",
    "#ipotesi nulla = mu = mu0\n",
    "#ipotesi alternativa mu#mu0\n",
    "\n",
    "media_campionaria = np.mean(X)\n",
    "\n",
    "Z = (media_campionaria - mu)/dev * np.sqrt(n)\n",
    "alfa = 0.05\n",
    "\n",
    "phi = norm.ppf(1-alfa/2, 0)\n",
    "\n",
    "if(np.abs(Z) > phi):\n",
    "    print(\" rigettiamo ipotesi nulla, le specifiche del propollente non soddisfano la condizione\")\n",
    "else:\n",
    "    print(\"non abbiamo elementi per affermare nulla\")"
   ]
  },
  {
   "cell_type": "code",
   "execution_count": 35,
   "id": "89fcd41b-a48b-46ee-8041-8cd3a3f4f44c",
   "metadata": {},
   "outputs": [
    {
     "name": "stdout",
     "output_type": "stream",
     "text": [
      "non abbiamo elementi per affermare nulla\n"
     ]
    }
   ],
   "source": [
    "#se alfa = 0.01\n",
    "alfa = 0.01\n",
    "\n",
    "phi = norm.ppf(1-alfa/2, 0)\n",
    "\n",
    "if(np.abs(Z) > phi):\n",
    "    print(\" rigettiamo ipotesi nulla, le specifiche del propollente non soddisfano la condizione\")\n",
    "else:\n",
    "    print(\"non abbiamo elementi per affermare nulla\")"
   ]
  },
  {
   "cell_type": "code",
   "execution_count": 36,
   "id": "7f76c24b-d1ca-45e0-bb92-3d08cd6e2fbf",
   "metadata": {},
   "outputs": [
    {
     "name": "stdout",
     "output_type": "stream",
     "text": [
      "p_value :  0.04329746577930438\n"
     ]
    }
   ],
   "source": [
    "#calcoliamo adesso il p_value\n",
    "#il p_value è il piu piccolo alfa per cui i dati portano al rigetto di H0\n",
    "phi = norm.cdf(Z)\n",
    "p_value = 2*(1-phi)\n",
    "print(\"p_value : \" ,p_value)"
   ]
  },
  {
   "cell_type": "code",
   "execution_count": 37,
   "id": "64c1721b-8c0d-4ad5-b638-c960c4c8825c",
   "metadata": {},
   "outputs": [
    {
     "name": "stdout",
     "output_type": "stream",
     "text": [
      "dimensione campionaria :  42.029692245762476\n"
     ]
    }
   ],
   "source": [
    "sigma = 1 # sarebbe mu* = mu+ nuovo valore\n",
    "alfa = 0.05 #livello di significatività\n",
    "Z = (media_campionaria - mu - sigma)/dev * np.sqrt(n)\n",
    "beta = 0.10 #1-p = #1 - 0.90\n",
    "\n",
    "phi_b= norm.ppf(1-beta)\n",
    "phi = norm.ppf(1-alfa/2, 0)\n",
    "\n",
    "n= (phi + phi_b)**2 * dev**2/sigma**2\n",
    "\n",
    "print(\"dimensione campionaria : \", n)"
   ]
  },
  {
   "cell_type": "markdown",
   "id": "cc83ad56-aeb2-4a3a-b1b1-fb830c7c808d",
   "metadata": {},
   "source": [
    "# TEST SULLA MEDIA  : VARIANZA NON NOTA ( O T TEST)\n",
    "Abbiamo X1,X2,XN di leggi normali o che si possa applicare l'approssimazione normale. In questo caso è nota solo la media mu, si approssima la varianza con lo stimatore S, che lo otteniamo con np.std(X,ddof=1)<br> Vogliamo testare l'ipotesi sul valore di mu <br>\n",
    "<br>\n",
    "IPOTESI NULLA => mu = mu0 <br>\n",
    "IPOTESI ALTERNATIVA => mu#mu0 <br>"
   ]
  },
  {
   "cell_type": "markdown",
   "id": "b8d8f366-3be7-4931-b1e1-7ab60c53a725",
   "metadata": {},
   "source": [
    "Si vuole testare ad un livello di significativita α = 0.05 se il carico di rottura di un materiale\n",
    "supera 10 MPa, tenendo presente che 22 prove hanno fornito i seguenti risultati <br>\n",
    "Calcolare inoltre il p-value.\r\n"
   ]
  },
  {
   "cell_type": "code",
   "execution_count": 45,
   "id": "ba9b1dec-4add-4a63-a549-7ca745868bfd",
   "metadata": {},
   "outputs": [],
   "source": [
    "X=np.array([19.8, 18.5, 17.6, 16.7, 15.8, 15.4, 14.1, 13.6, 11.9, 11.4, 11.4, 8.8, 7.5, 15.4, 15.4, 19.5, 14.9, 12.7, 11.9, 11.4, 10.1, 7.9])"
   ]
  },
  {
   "cell_type": "code",
   "execution_count": 49,
   "id": "995c3206-7553-405a-bf95-57050abf76a2",
   "metadata": {},
   "outputs": [
    {
     "name": "stdout",
     "output_type": "stream",
     "text": [
      "rigetto ipotesi nulla, il carico di rottura supera 10 mpa\n"
     ]
    }
   ],
   "source": [
    "from scipy.stats import t\n",
    "alfa = 0.05\n",
    "mu = 10\n",
    "n=22\n",
    "\n",
    "#ipotesi nulla mu = mu0\n",
    "#ipotesi alternativa = mu > mu0 -> vogliamo vedere se supera i 10 mba\n",
    "\n",
    "S = np.std(X, ddof=1)\n",
    "media_campionaria = np.mean(X)\n",
    "T = (media_campionaria - mu)/S * np.sqrt(n) #segue una legge t student!\n",
    "phi = t.ppf(1-alfa, n-1) \n",
    "if(np.abs(T) > phi):\n",
    "    print(\"rigetto ipotesi nulla, il carico di rottura supera 10 mpa\")\n",
    "else:\n",
    "    print(\"non abbiamo elementi per affermare niente\")"
   ]
  },
  {
   "cell_type": "code",
   "execution_count": 52,
   "id": "9bf704b8-ac5c-4e62-977d-651829a5b311",
   "metadata": {},
   "outputs": [
    {
     "name": "stdout",
     "output_type": "stream",
     "text": [
      "p_value : 3.781272593450513e-05\n"
     ]
    }
   ],
   "source": [
    "#la funzione di ripartizione è la CDF\n",
    "phi = t.cdf(T, n-1)\n",
    "\n",
    "p_value = 1- phi\n",
    "print(\"p_value :\", p_value)"
   ]
  },
  {
   "cell_type": "markdown",
   "id": "2151646b-bcf4-4c8b-9fc2-18ae7a5b73ac",
   "metadata": {},
   "source": [
    "# TEST SULLA VARIANZA \n",
    "Abbiamo X1,X2,XN di leggi normali o che si possa applicare l'approssimazione normale. Siano mu e sig^2 la media e la varianza.  Vogliamo testare l'ipotesi sul valore della varianza <br>\n",
    "<br>\n",
    "IPOTESI NULLA => varianza = varianza0 <br>\n",
    "IPOTESI ALTERNATIVA => var # var0 <br>"
   ]
  },
  {
   "cell_type": "markdown",
   "id": "4af0b14b-9ff8-4a09-b946-e37fc93927ce",
   "metadata": {},
   "source": [
    "Un macchinario riempie automaticamente delle bottiglie. Da un campione di 20 misurazioni si ottengono i seguenti valori (in litri) : <br>\n",
    "2.05, 2.04, 1.98, 1.96, 2.03, 2.01, 1.97, 1.99, 2.01, 2.05\n",
    "1.96, 1.95, 2.04, 2.01, 1.97, 1.96, 2.02, 2.04, 1.98, 1.94 <br>\n",
    "Se la deviazione standard fosse superiore a 0.05 litri, la proporzione di bottiglie sotto o sovrariem\u0002pite sarebbe non accettabile.\n",
    "I dati del campione contengono prove che suggeriscono che il produttore abbia un problema con\n",
    "le bottiglie riempite troppo o troppo poco? Utilizzare α = 0.05 e assumere che il volume di\n",
    "riempimento abbia una distribuzione normale.\n"
   ]
  },
  {
   "cell_type": "code",
   "execution_count": 55,
   "id": "dd92f277-114a-45d4-9d12-a6773878e2c2",
   "metadata": {},
   "outputs": [],
   "source": [
    "X = np.array([2.05, 2.04, 1.98, 1.96, 2.03, 2.01, 1.97, 1.99, 2.01, 2.05, 1.96, 1.95, 2.04, 2.01, 1.97, 1.96, 2.02, 2.04, 1.98, 1.94])"
   ]
  },
  {
   "cell_type": "code",
   "execution_count": 64,
   "id": "45f7a1c6-d1f9-46d0-9e72-f2f0dd8990d6",
   "metadata": {},
   "outputs": [
    {
     "name": "stdout",
     "output_type": "stream",
     "text": [
      " rigetto ipotesi nulla, il produttore non ha un problema con le bottiglie con livello di significatività pari al 5%\n"
     ]
    }
   ],
   "source": [
    "from scipy.stats import chi2\n",
    "n= 20 #misurazioni del campione\n",
    "dev = 0.05\n",
    "\n",
    "#IPOTESI NULLA dev = dev0\n",
    "#ipotesi alternativa dev < dev0\n",
    "S= np.std(X, ddof=1)\n",
    "W = S**2/dev**2 * (n-1) #segue una legge chi2\n",
    "alfa = 0.05\n",
    "phi = chi2.ppf(alfa, n-1)\n",
    "\n",
    "if(W < phi) : \n",
    "    print(\" rigetto ipotesi nulla, il produttore non ha un problema con le bottiglie con livello di significatività pari al 5%\")\n",
    "else:\n",
    "    print(\"non ho elementi per affermare niente\")"
   ]
  },
  {
   "cell_type": "markdown",
   "id": "579aaeee-71f2-40bc-9ea0-99f2422d6aee",
   "metadata": {},
   "source": [
    "# TEST SULLA PROPORZIONE \n",
    "Abbiamo X1,X2,XN un campione di leggi di Bernoulli<br>\n",
    "<br>\n",
    "IPOTESI NULLA => p = p0 <br>\n",
    "IPOTESI ALTERNATIVA => p # p0 <br>\n",
    "\n",
    "Dobbiamo prima verificare che np0>=5 e n(1-p0)>=5 cosi possiamo affermare valida l'approssimazione normale"
   ]
  },
  {
   "cell_type": "markdown",
   "id": "7a8b6497-99b9-41ef-ba97-3772dd6382e2",
   "metadata": {},
   "source": [
    "# Esercizio\n",
    "In una catena di produzione si vuole mantenere il numero di pezzi difettosi al di sotto del 5%.<br>\n",
    "Si analizza un campione di 200 pezzi e si trovano 4 pezzi difettosi. <br>\n",
    "Si puo asserire ad un livello di significativita α = 0.05 che la produzione rispetta le\n",
    "aspettative? <br>\n",
    "Supponendo che il valore vero sia p∗ = 0.03 e supponendo che il costruttore voglia\n",
    "accettare un valore dell’errore di secondo tipo β = 0.1, quale ampiezza dovrebbe avere il\n",
    "campione? <br>\n"
   ]
  },
  {
   "cell_type": "code",
   "execution_count": 78,
   "id": "5fd22eb1-22a8-44b7-9128-b04b86fadb0b",
   "metadata": {},
   "outputs": [
    {
     "name": "stdout",
     "output_type": "stream",
     "text": [
      "rigetto ipotesi nulla -> si rispetta la produzione con livello 0.05\n"
     ]
    }
   ],
   "source": [
    "n= 200 #campioni\n",
    "p_difettosi = 4\n",
    "p0 = 0.05\n",
    "p= p_difettosi/n\n",
    "alfa = 0.05\n",
    "#IPOTESI NULLA  p = p0\n",
    "#IPOTESI ALTERNATIVA  p < p0\n",
    "media_campionaria = p\n",
    "Z =  (media_campionaria  - p0)/(np.sqrt(p0*(1-p0))) * np.sqrt(n)\n",
    "# segue una normale\n",
    "\n",
    "phi = norm.ppf(alfa,0)\n",
    "\n",
    "if(Z < phi):\n",
    "    print(\"rigetto ipotesi nulla -> si rispetta la produzione con livello 0.05\")\n",
    "else:\n",
    "    print(\"non ho elementi per affermare niente\")"
   ]
  },
  {
   "cell_type": "code",
   "execution_count": 85,
   "id": "cdbfc3d2-375c-4f8a-ac42-a2c9bf90d54c",
   "metadata": {},
   "outputs": [
    {
     "name": "stdout",
     "output_type": "stream",
     "text": [
      "ampiezza del campione :  832.6221546780524\n"
     ]
    }
   ],
   "source": [
    "p_star = 0.03\n",
    "b= 0.1\n",
    "#ampiezza del campione\n",
    "\n",
    "phi_b = norm.ppf(b)\n",
    "phi = norm.ppf(alfa,0)\n",
    "\n",
    "n= (phi_b * np.sqrt(p_star * (1-p_star)) + phi * np.sqrt(p0*(1-p0)))/(p0 - p_star)\n",
    "n= n**2\n",
    "\n",
    "print(\"ampiezza del campione : \", n)"
   ]
  },
  {
   "cell_type": "markdown",
   "id": "c6b8897d-0561-42a9-9fd7-c748c1196438",
   "metadata": {},
   "source": [
    "# TEST SULLA MEDIA PER COPPIE DI POPOLAZIONI\n",
    "\n",
    "Sia x1,x2,x3..xn un campione estratto dalla popolazione 1  , y1,y2,y2 un campione estratto dalla popolazione 2. Supponiamo che sono entrambi indipendenti e che seguono la legge normale.<br>\n",
    "Siano mu1 mu2 e var1 var2 le due rispettiva\n",
    "\n",
    "Ipotesi nulla =>  mu1 = mu2 \n",
    "Ipotesi alternativa =  mu1 # mu2"
   ]
  },
  {
   "cell_type": "markdown",
   "id": "989489f5-1eac-43d0-ad8b-68b232f96b81",
   "metadata": {},
   "source": [
    "# ESERCIZIO\n",
    "Si vogliono confrontare due tipi di preparati per pittura. Ci si aspetta un diverso tempo di essic\u0002camento. Si puo supporre che la deviazione standard del tempo di essiccamento per ciascun tipo di essiccamento sia 8 minuti. 10 pareti vengono tinteggiate con il trattamento 1 e altrettamente pareti con il trattamento 2. Si rilevano le medie campionare X¯ = 121 minuti e Y¯ = 112 minuti.  <br>\n",
    "Si puo trarre la conclusione che il tempo di essiccamento del campione 1 sia maggiore di quello del campione 2 assumendo α = 0.05?\n",
    "Calcolare l’intervallo di confidenza per la differenza dei tempi medi di essiccamento."
   ]
  },
  {
   "cell_type": "code",
   "execution_count": 102,
   "id": "7077ce87-7c76-40da-a283-f8e016d76191",
   "metadata": {},
   "outputs": [
    {
     "name": "stdout",
     "output_type": "stream",
     "text": [
      "rigetto ipotesi nulla, mu1 > mu2\n"
     ]
    }
   ],
   "source": [
    "dev = 8\n",
    "n=10\n",
    "m=10\n",
    "mc1 = 121\n",
    "mc2 = 112\n",
    "alfa = 0.05\n",
    "\n",
    "\n",
    "#si può trarre che il tempo di essicamento 1 > 2? usando alfa = 0.05\n",
    "#IPOTESI NULLA  MU1=MU2\n",
    "#IPOTESI ALTERNATIVA MU1>MU2\n",
    "mu = mc1- mc2\n",
    "Z = (mc1 - mc2)/np.sqrt(dev**2/n + dev**2/m) #segue una normale\n",
    "phi = norm.ppf(1-alfa)\n",
    "\n",
    "if(Z > phi):\n",
    "    print(\"rigetto ipotesi nulla, mu1 > mu2\")\n",
    "else: \n",
    "    print(\"non ho elementi per affermare niente\")"
   ]
  },
  {
   "cell_type": "code",
   "execution_count": 101,
   "id": "f01faaf4-c997-4e75-9727-3fcc0e5f23ba",
   "metadata": {},
   "outputs": [
    {
     "name": "stdout",
     "output_type": "stream",
     "text": [
      "intervallo di confidenza..  3.115192763359085\n"
     ]
    }
   ],
   "source": [
    "#intervallo di confidenza\n",
    "\n",
    "#DATO CHE MU1 > MU2\n",
    "\n",
    "ic = mc1 - mc2 - phi*np.sqrt(dev**2/n + dev**2/m)\n",
    "print(\"intervallo di confidenza.. \", ic)"
   ]
  },
  {
   "cell_type": "markdown",
   "id": "974684ec-21df-41ab-9dd3-530e1c4e04cc",
   "metadata": {},
   "source": [
    "## TEST T PER DATI ACCOPPIATI\n",
    "Test per coppie di popolazioni, un campione si presente nella forma (X,Y)\n",
    "Supponiamo che le osservazioni X e Y hanno un propria mu e varianza. <br>\n",
    "\n",
    "D = X-Y  sono le differenze tra le osservazioni<br>\n",
    "ud = u1-u2  e varianza sig^2 <br>\n",
    "\n",
    "Ipotesi nulla => Ud = 0   \n",
    "Ipotesi nulla => ud#0\n"
   ]
  },
  {
   "cell_type": "markdown",
   "id": "f1bbb67f-1601-47c1-af24-293482d10709",
   "metadata": {},
   "source": [
    "# ESERCIZIO\n",
    "\n",
    "Quindici adulti di eta compresa tra 35 e 50 anni parecipano ad uno studio per valutare gli effetti di dieta alimentare ed esercizio fisico sul livello di colesterolo nel sangue. In ogni individuo il livello di colesterolo e stato misurato inizialmente e tre mesi dopo la dieta e l’allenamento. Con un livello di significativita α = 0.05, e possibile avallare l’ipotesi che dieta ed esercizio fisico portino a ridurre il livello medio di colesterolo?"
   ]
  },
  {
   "cell_type": "code",
   "execution_count": 124,
   "id": "9a8d5187-ba9c-40e7-97db-7c6cf95ec666",
   "metadata": {},
   "outputs": [],
   "source": [
    "X = np.array([265,240,258,295,251,245,287,314,260,279,283,240,238,225,247])\n",
    "Y = np.array([229,231,227,240,238,241,234,256,247,239,246,218,219,226,233])"
   ]
  },
  {
   "cell_type": "code",
   "execution_count": 123,
   "id": "1f02bc62-3581-4c12-b2c8-817e4c32d415",
   "metadata": {},
   "outputs": [
    {
     "name": "stdout",
     "output_type": "stream",
     "text": [
      "rigetto ipotesi nulla, dieta ed esercizio fisico riducono il livello medio\n"
     ]
    }
   ],
   "source": [
    "alfa = 0.05\n",
    "n= X.size\n",
    "D = X - Y\n",
    "Dn = np.mean(D)\n",
    "S = np.std(D, ddof=1) #deviazione standard delle Differenze\n",
    "T = Dn/S * np.sqrt(n) #segue una legge t(n-1)\n",
    "\n",
    "#ipotesi UD = 0\n",
    "#ipotesi UD > 0\n",
    "\n",
    "phi = t.ppf(1-alfa,n-1)\n",
    "\n",
    "if(T > phi):\n",
    "    print(\"rigetto ipotesi nulla, dieta ed esercizio fisico riducono il livello medio\")\n",
    "else:\n",
    "    print(\"non ho elementi per affermare niente..\")"
   ]
  },
  {
   "cell_type": "markdown",
   "id": "f7432c08-596a-4dd7-aa0b-91726bededc8",
   "metadata": {},
   "source": [
    "# TEST DEL CHI-QUADRO\n",
    "\n",
    "Siano x1,x2,xn un campione di leggi multinomiali.\n",
    "Sia X che appartiene ad un insieme di campioni a1,a2..  <br>\n",
    "Sia theta = {insieme probabilità p1..pm} cioè il vettore di probabilità pk =P(X = ak) \n",
    "<br>\n",
    "\n",
    "Si vuole testare ipotesi nulla :  Teta = Teta0 <br>\n",
    "Ipotesi alternativa :  Teta # Teta0"
   ]
  },
  {
   "cell_type": "markdown",
   "id": "ae69456e-e6de-4bfb-add5-d26cdc75f39c",
   "metadata": {},
   "source": [
    "# ESERCIZIO\n",
    "Si vuole testare se un dado sia equilibrato o meno ad un livello di significativita α = 0.05. Si effettuano 100 lanci, registrando i risultati riportati nella seguente tabella."
   ]
  },
  {
   "cell_type": "code",
   "execution_count": 152,
   "id": "3fb36e1a-17b6-46c2-994d-64ace6da9fa5",
   "metadata": {},
   "outputs": [
    {
     "name": "stdout",
     "output_type": "stream",
     "text": [
      "non la rigetto ma non si può affermare niente\n"
     ]
    }
   ],
   "source": [
    "from scipy.stats import chi2\n",
    "Nk = np.array([20,7,12,18,20,23]) #frequenze assolute\n",
    "#EK = n*pk = numero totale * la probabilità\n",
    "p = 1/6\n",
    "n=100\n",
    "Ek = np.array([n*p, n*p, n*p, n*p, n*p, n*p])\n",
    "\n",
    "#Nk è il numero di volte che si è verificato il risultato ak\n",
    "#la somma di tutti gli elementi Nk = N\n",
    "alfa = 0.05\n",
    "T = np.sum((Nk- Ek)**2/Ek)\n",
    "chi2 = chi2.ppf(1-alfa, 6-1)\n",
    "\n",
    "if (T > chi2):\n",
    "    print(\"rigetto ipotesi nulla\")\n",
    "else:\n",
    "    print(\"non la rigetto ma non si può affermare niente\")"
   ]
  },
  {
   "cell_type": "code",
   "execution_count": 153,
   "id": "2e602d60-14e8-4117-8a55-8a4b80734b61",
   "metadata": {},
   "outputs": [
    {
     "name": "stdout",
     "output_type": "stream",
     "text": [
      "non la rigetto ma non si può affermare niente\n"
     ]
    }
   ],
   "source": [
    "from scipy.stats import chi2\n",
    "Nk = np.array([388,322,314,316,344,316]) #frequenze assolute\n",
    "#EK = n*pk = numero totale * la probabilità\n",
    "p = 1/6\n",
    "n= 2000\n",
    "Ek = np.array([n*p, n*p, n*p, n*p, n*p, n*p])\n",
    "alfa = 0.01\n",
    "T = np.sum((Nk- Ek)**2/Ek)\n",
    "chi2 = chi2.ppf(1-alfa, 6-1)\n",
    "\n",
    "if (T > chi2):\n",
    "    print(\"rigetto ipotesi nulla\")\n",
    "else:\n",
    "    print(\"non la rigetto ma non si può affermare niente\")"
   ]
  },
  {
   "cell_type": "markdown",
   "id": "7429a0a1-f99a-41a1-968e-63ddd1930f40",
   "metadata": {},
   "source": [
    "# TEST DEL CHI-QUADRO DI INDIPENDENZA\n",
    "Supponiao di avere n coppie (X1,Y1) (X2,Y2) (XN,YN) con le Xi che appartengono all'insieme {a1,a2,a3..am} e Yi che appartengono all'insime {b1,b2..br}\n",
    "<br>\n",
    "Vogliamo testare che X e Y sono indipendenti  <br>\n",
    "\n",
    "IPOTESI NULLA = X E Y indipendenti <br>\n",
    "IPOTESI ALTERNATIVA = X#Y non sono indipendenti <br>\n",
    "\n",
    "\n",
    "pk= Nh(X)/n  -> Nh il numero di indici tale che Xi = ah  <br>\n",
    "qk= Nh(Y)/n -> Qk il numero di indici tale che Yi = bk  <br>\n",
    "pi = nhk/n  -> nhk il numero di indici di ogni coppia"
   ]
  },
  {
   "cell_type": "markdown",
   "id": "548a1107-fc6b-4eba-aecb-cb6a6426abd5",
   "metadata": {},
   "source": [
    "# ESERCIZIO\n",
    "Si considerano 170 pazienti. I dati ottenuti sono stati raccolti nella tabella seguente <br>"
   ]
  },
  {
   "cell_type": "code",
   "execution_count": 180,
   "id": "136d3078-1400-4ee4-a976-fa491aa00820",
   "metadata": {},
   "outputs": [
    {
     "name": "stdout",
     "output_type": "stream",
     "text": [
      " X e Y non sono indipendenti\n"
     ]
    }
   ],
   "source": [
    "from scipy.stats import chi2\n",
    "# SIA X = TRATTAMENTO   Y = GUARIGIONE \n",
    "\n",
    "X = np.array([[44,10],[81,35]])\n",
    "n=170\n",
    "p = np.array([54,116])/n #probabilità empirica trattamento\n",
    "q = np.array([125,45])/n #probabilità empirica guarigione\n",
    "pi = X/n\n",
    "#I due effetti X E Y sono indipendenti\n",
    "alfa=0.05\n",
    "\n",
    "Tn=0\n",
    "m=2\n",
    "r=2\n",
    "for h in range(m):\n",
    "    for k in range(r):\n",
    "        Tn+= ((p[h]*q[k]-pi[h][k])**2/pi[h][k])\n",
    "\n",
    "Tn *= n\n",
    "\n",
    "chi2= chi2.ppf(1-alfa, (m-1)*(r-1))\n",
    "\n",
    "if(Tn > chi2):\n",
    "    print(\" rigetto ipotesi nulla, quindi trattamento e guarigione sono indipendenti\")\n",
    "else:\n",
    "    print(\" X e Y non sono indipendenti\")"
   ]
  },
  {
   "cell_type": "markdown",
   "id": "933fc7f0-cf12-44c0-afff-3c6f49222bda",
   "metadata": {},
   "source": [
    "# TEST DELLA MEDIANA\n",
    "Siano X1,x2,x3,x3,xn un campione estratto da una popolazione e sia mu la mediana della popolazione\n",
    "<br>\n",
    "Vogliamo testare ipotesi nulla=> mu = mu0 <br>\n",
    "ipotesi alternativa mu # mu0\n",
    "\n",
    "\n",
    "r+  è il numero di differenze positive dalle osservazioni <br>\n",
    "R+ segue una binomiale B(n,1/2)"
   ]
  },
  {
   "cell_type": "markdown",
   "id": "1f614381-9f43-4334-ada5-786f5d040a76",
   "metadata": {},
   "source": [
    "# ESERCIZIO \n",
    "Un motore a reazione e formato legando insieme un propellente di accensione e un propellente di sostegno all’interno di un alloggiamento metallico. <BR>La resistenza al taglio del legame tra i due tipi di propellente e una caratteristica importante.\n",
    "Vogliamo testare l’ipotesi che la mediana della resistenza al taglio sia 2000 psi con una signi\u0002ficativit`a α = 0.05. <BR>\n",
    "I dati sono riportati nel file Dataset motore.dat "
   ]
  },
  {
   "cell_type": "code",
   "execution_count": 204,
   "id": "594ac427-c36e-48e0-8b1d-4cdcb0dd0899",
   "metadata": {},
   "outputs": [
    {
     "name": "stdout",
     "output_type": "stream",
     "text": [
      "non ho elementi per affermare niente\n"
     ]
    }
   ],
   "source": [
    "from scipy.stats import binom\n",
    "X = np.loadtxt(\"dataset_motore.dat\")\n",
    "mediana = 2000\n",
    "alfa = 0.05\n",
    "n= X.size\n",
    "#IPOTESI NULLA MU = MU0\n",
    "#IPOTESI ALTERNATIVA MU#M0\n",
    "Y = X-mediana\n",
    "r_plus = sum(Y>0)\n",
    "\n",
    "\n",
    "if r_plus > n/2:\n",
    "    k= range(r_plus, n+1)\n",
    "    p = binom.pmf(k,n,1/2)\n",
    "else:\n",
    "    k= range(0,r_plus)\n",
    "    p = binom.pmf(k,n,1/2)\n",
    "\n",
    "P = sum(p)\n",
    "P_value = 2*P\n",
    "\n",
    "if  P_value <= alfa:\n",
    "    print(\"si rigetta H0 a favore di H1\")\n",
    "else:\n",
    "    print(\"non ho elementi per affermare niente\")"
   ]
  },
  {
   "cell_type": "code",
   "execution_count": null,
   "id": "0c5adc03-1375-44bf-b599-a5501157dd11",
   "metadata": {},
   "outputs": [],
   "source": []
  }
 ],
 "metadata": {
  "kernelspec": {
   "display_name": "Python 3 (ipykernel)",
   "language": "python",
   "name": "python3"
  },
  "language_info": {
   "codemirror_mode": {
    "name": "ipython",
    "version": 3
   },
   "file_extension": ".py",
   "mimetype": "text/x-python",
   "name": "python",
   "nbconvert_exporter": "python",
   "pygments_lexer": "ipython3",
   "version": "3.10.12"
  }
 },
 "nbformat": 4,
 "nbformat_minor": 5
}
